{
 "cells": [
  {
   "cell_type": "code",
   "execution_count": 1,
   "metadata": {},
   "outputs": [],
   "source": [
    "import pandas as pd\n",
    "import numpy as np\n",
    "\n",
    "class kmeans:\n",
    "    def __init__(self, k=3, tol=1e-4, max_iter=500):\n",
    "        self.k = k\n",
    "        self.tol = tol\n",
    "        self.max_iter = max_iter\n",
    "        self.centroids = {}\n",
    "    \n",
    "    def cluster(self, data):\n",
    "        X = data.values\n",
    "\n",
    "        center = [X[:,0].mean(), X[:,1].mean()]\n",
    "        for i in range(self.k):\n",
    "            self.centroids[i] = (center+X[i])/2\n",
    "        \n",
    "        for _ in range(self.max_iter):\n",
    "            self.classes = {}\n",
    "            for i in range(self.k):\n",
    "                self.classes[i] = []\n",
    "            for i in X:\n",
    "                dist = [np.linalg.norm(i - self.centroids[centroid]) for centroid in self.centroids]\n",
    "                class_label = dist.index(min(dist))\n",
    "                self.classes[class_label].append(i)\n",
    "            for label in self.classes:\n",
    "                self.centroids[label] = np.average(self.classes[label],axis=0)\n",
    "        \n",
    "        self.labels = []\n",
    "        for i in X:\n",
    "            dist = [np.linalg.norm(i - self.centroids[centroid]) for centroid in self.centroids]\n",
    "            self.labels.append(dist.index(min(dist)))\n",
    "        \n",
    "        return self.labels\n"
   ]
  },
  {
   "cell_type": "code",
   "execution_count": 2,
   "metadata": {},
   "outputs": [],
   "source": [
    "df = pd.read_csv('data.csv')"
   ]
  },
  {
   "cell_type": "code",
   "execution_count": 3,
   "metadata": {},
   "outputs": [
    {
     "name": "stdout",
     "output_type": "stream",
     "text": [
      "Wall time: 824 ms\n"
     ]
    }
   ],
   "source": [
    "%%time\n",
    "\n",
    "labels = kmeans(3).cluster(df)"
   ]
  },
  {
   "cell_type": "code",
   "execution_count": 4,
   "metadata": {},
   "outputs": [
    {
     "data": {
      "text/plain": [
       "<matplotlib.collections.PathCollection at 0x2048ca4d880>"
      ]
     },
     "execution_count": 4,
     "metadata": {},
     "output_type": "execute_result"
    },
    {
     "data": {
      "image/png": "[encoded data removed]",
      "text/plain": [
       "<Figure size 432x288 with 1 Axes>"
      ]
     },
     "metadata": {
      "needs_background": "light"
     },
     "output_type": "display_data"
    }
   ],
   "source": [
    "from matplotlib import pyplot as plt\n",
    "colors = [\"r\", \"g\", \"c\", \"b\", \"k\"]\n",
    "\n",
    "plt.scatter(df.iloc[:, 0], df.iloc[:, 1],\n",
    "    color=[colors[labels[i]] for i in range(len(df))])"
   ]
  },
  {
   "cell_type": "code",
   "execution_count": null,
   "metadata": {},
   "outputs": [],
   "source": []
  }
 ],
 "metadata": {
  "interpreter": {
   "hash": "1baa965d5efe3ac65b79dfc60c0d706280b1da80fedb7760faf2759126c4f253"
  },
  "kernelspec": {
   "display_name": "Python 3.8.7 64-bit",
   "name": "python3"
  },
  "language_info": {
   "codemirror_mode": {
    "name": "ipython",
    "version": 3
   },
   "file_extension": ".py",
   "mimetype": "text/x-python",
   "name": "python",
   "nbconvert_exporter": "python",
   "pygments_lexer": "ipython3",
   "version": "3.8.7"
  },
  "orig_nbformat": 4
 },
 "nbformat": 4,
 "nbformat_minor": 2
}